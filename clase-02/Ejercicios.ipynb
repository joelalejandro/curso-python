{
 "cells": [
  {
   "cell_type": "markdown",
   "source": [
    "# Ejercicios Clase 2"
   ],
   "metadata": {}
  },
  {
   "cell_type": "markdown",
   "source": [
    "1. Crear un programa que imprima por pantalla el mensaje “hola mundo”."
   ],
   "metadata": {}
  },
  {
   "cell_type": "code",
   "execution_count": 1,
   "source": [
    "print(\"Hola mundo\")"
   ],
   "outputs": [
    {
     "output_type": "stream",
     "name": "stdout",
     "text": [
      "Hola mundo\n"
     ]
    }
   ],
   "metadata": {}
  },
  {
   "cell_type": "markdown",
   "source": [
    "2. Crear un programa que almacene el mensaje “hola mundo” en una variable y\n",
    "luego lo imprima por pantalla."
   ],
   "metadata": {}
  },
  {
   "cell_type": "code",
   "execution_count": 2,
   "source": [
    "mensaje = 'Hola mundo'\n",
    "print(mensaje)"
   ],
   "outputs": [
    {
     "output_type": "stream",
     "name": "stdout",
     "text": [
      "Hola mundo\n"
     ]
    }
   ],
   "metadata": {}
  },
  {
   "cell_type": "markdown",
   "source": [
    "3. Crear un programa que pida al usuario su nombre y edad e imprima ambos\n",
    "datos por pantalla."
   ],
   "metadata": {}
  },
  {
   "cell_type": "code",
   "execution_count": 3,
   "source": [
    "nombre, edad = input('Tu nombre:'), input('Tu edad')\n",
    "print(f'Nombre: {nombre}')\n",
    "print(f'Edad: {edad}')"
   ],
   "outputs": [
    {
     "output_type": "stream",
     "name": "stdout",
     "text": [
      "Nombre: Joel\n",
      "Edad: 31\n"
     ]
    }
   ],
   "metadata": {}
  },
  {
   "cell_type": "markdown",
   "source": [
    "4. Crear un programa que pida al usuario un número y, en caso de que el número\n",
    "ingresado sea par, imprimirlo por pantalla."
   ],
   "metadata": {}
  },
  {
   "cell_type": "code",
   "execution_count": 8,
   "source": [
    "numero = int(input('Decime un número:'))\n",
    "if (numero % 2 == 0):\n",
    "    print(numero, 'es par')"
   ],
   "outputs": [
    {
     "output_type": "stream",
     "name": "stdout",
     "text": [
      "42 es par\n"
     ]
    }
   ],
   "metadata": {}
  },
  {
   "cell_type": "markdown",
   "source": [
    "5. Crear un programa que pida al usuario una frase y la imprima 5 (cinco) veces por\n",
    "pantalla."
   ],
   "metadata": {}
  },
  {
   "cell_type": "code",
   "execution_count": 14,
   "source": [
    "frase = input('Decime una frase y la repetiré 5 veces:')\n",
    "print(f\"{frase} \" * 5)"
   ],
   "outputs": [
    {
     "output_type": "stream",
     "name": "stdout",
     "text": [
      "holis holis holis holis holis \n"
     ]
    }
   ],
   "metadata": {}
  },
  {
   "cell_type": "markdown",
   "source": [
    "6. Crear un programa que pida al usuario su edad y chequee si es mayor o menor\n",
    "de edad. En cualquiera de los dos casos imprima por pantalla el resultado: “es\n",
    "mayor” o “es menor”."
   ],
   "metadata": {}
  },
  {
   "cell_type": "code",
   "execution_count": 16,
   "source": [
    "mayoriaDeEdad = 18\n",
    "edad = int(input('¿Cuál es tu edad?'))\n",
    "if (edad >= mayoriaDeEdad):\n",
    "    print(f'Tiene {edad} años, es mayor de edad')\n",
    "else:\n",
    "    print(f'Tiene {edad} años, es menor de edad')"
   ],
   "outputs": [
    {
     "output_type": "stream",
     "name": "stdout",
     "text": [
      "Tiene 21 años, es mayor de edad\n"
     ]
    }
   ],
   "metadata": {}
  },
  {
   "cell_type": "markdown",
   "source": [
    "7. Crear un programa que pida al usuario su nombre y después de que el usuario\n",
    "lo introduzca muestre por pantalla `<nombre>` tiene `<n>` letras, donde `<nombre>`\n",
    "es el nombre de usuario en mayúsculas y `<n>` es el número de letras que tienen\n",
    "el nombre."
   ],
   "metadata": {}
  },
  {
   "cell_type": "code",
   "execution_count": 25,
   "source": [
    "nombre = input('Tu nombre:')\n",
    "print(f\"{nombre.upper()} tiene {len(nombre)} letras\")"
   ],
   "outputs": [
    {
     "output_type": "stream",
     "name": "stdout",
     "text": [
      "JOEL tiene 4 letras\n"
     ]
    }
   ],
   "metadata": {}
  },
  {
   "cell_type": "markdown",
   "source": [
    "8. Crear un programa que almacene la cadena de caracteres `contraseña` en una\n",
    "variable, pregunte al usuario por la contraseña e imprima por pantalla si la\n",
    "contraseña introducida por el usuario coincide con la guardada en la variable."
   ],
   "metadata": {}
  },
  {
   "cell_type": "code",
   "execution_count": 28,
   "source": [
    "clave = 'contraseña'\n",
    "claveIngresada = input('Ingrese la contraseña:')\n",
    "if (clave == claveIngresada):\n",
    "    print('Contraseña correcta')\n",
    "else:\n",
    "    print('Contraseña incorrecta')"
   ],
   "outputs": [
    {
     "output_type": "stream",
     "name": "stdout",
     "text": [
      "Contraseña correcta\n"
     ]
    }
   ],
   "metadata": {}
  },
  {
   "cell_type": "markdown",
   "source": [
    "9. Crear un programa que almacene las asignaturas de un curso (por ejemplo\n",
    "Matemáticas, Física, Química, Historia y Lengua) en una lista, pregunte al\n",
    "usuario la nota que ha sacado en cada asignatura, y después las muestre por\n",
    "pantalla con el mensaje \"En `<asignatura>` has sacado `<nota>`\" donde\n",
    "`<asignatura>` es cada una de las asignaturas de la lista y `<nota>` cada una de\n",
    "las correspondientes notas introducidas por el usuario."
   ],
   "metadata": {}
  },
  {
   "cell_type": "code",
   "execution_count": 34,
   "source": [
    "asignaturas = ['Matemáticas', 'Física', 'Química', 'Historia', 'Lengua']\n",
    "notas = []\n",
    "for asignatura in asignaturas:\n",
    "    notas.append(int(input(f'¿Qué nota obtuviste en {asignatura}?')))\n",
    "for asignatura in asignaturas:\n",
    "    print(f'En {asignatura} has sacado {notas[asignaturas.index(asignatura)]}')"
   ],
   "outputs": [
    {
     "output_type": "stream",
     "name": "stdout",
     "text": [
      "En Matemáticas has sacado 4\n",
      "En Física has sacado 5\n",
      "En Química has sacado 6\n",
      "En Historia has sacado 7\n",
      "En Lengua has sacado 8\n"
     ]
    }
   ],
   "metadata": {}
  },
  {
   "cell_type": "markdown",
   "source": [
    "10. Crear un programa que guarde en una variable el diccionario {'Euro':'€',\n",
    "'Dollar':'$', 'Yen':'¥'}, pregunte al usuario por una divisa y muestre su símbolo o\n",
    "un mensaje de aviso si la divisa no está en el diccionario."
   ],
   "metadata": {}
  },
  {
   "cell_type": "code",
   "execution_count": 38,
   "source": [
    "monedas = {'Euro':'€','Dollar':'$', 'Yen':'¥'}\n",
    "divisa = input('Nombre de moneda:')\n",
    "if (divisa in monedas):\n",
    "    print(monedas[divisa])\n",
    "else:\n",
    "    print('No reconocemos esa moneda')"
   ],
   "outputs": [
    {
     "output_type": "stream",
     "name": "stdout",
     "text": [
      "No reconocemos esa moneda\n"
     ]
    }
   ],
   "metadata": {}
  },
  {
   "cell_type": "markdown",
   "source": [
    "11. Crear un programa que muestre el eco de todo lo que el usuario introduzca\n",
    "hasta que el usuario escriba “salir” que terminará."
   ],
   "metadata": {}
  },
  {
   "cell_type": "code",
   "execution_count": 39,
   "source": [
    "instruccion = ''\n",
    "while (instruccion != 'salir'):\n",
    "    instruccion = input('Instrucción:')\n",
    "    print(instruccion)"
   ],
   "outputs": [
    {
     "output_type": "stream",
     "name": "stdout",
     "text": [
      "Hola\n",
      "Avestruz\n",
      "salir\n"
     ]
    }
   ],
   "metadata": {}
  },
  {
   "cell_type": "markdown",
   "source": [
    "12. Crear un programa que pida al usuario un número entero, en caso de que el\n",
    "número ingresado sea mayor a 10, chequear además si es par, y en caso de que\n",
    "sea par chequear si además es divisible por 5. En caso de que todo sea\n",
    "verdadero, imprimir por pantalla que el número es mayor a 10, par y divisible\n",
    "por 5."
   ],
   "metadata": {}
  },
  {
   "cell_type": "code",
   "execution_count": 41,
   "source": [
    "numero = int(input('Ingresá un número entero:'))\n",
    "if (numero > 10 and numero % 2 == 0 and numero % 5 == 0):\n",
    "    print(f'{numero} es mayor a 10, par y divisible por 5')"
   ],
   "outputs": [
    {
     "output_type": "stream",
     "name": "stdout",
     "text": [
      "20 es mayor a 10, par y divisible por 5\n"
     ]
    }
   ],
   "metadata": {}
  }
 ],
 "metadata": {
  "orig_nbformat": 4,
  "language_info": {
   "name": "python",
   "version": "3.8.10",
   "mimetype": "text/x-python",
   "codemirror_mode": {
    "name": "ipython",
    "version": 3
   },
   "pygments_lexer": "ipython3",
   "nbconvert_exporter": "python",
   "file_extension": ".py"
  },
  "kernelspec": {
   "name": "python3",
   "display_name": "Python 3.8.10 64-bit"
  },
  "interpreter": {
   "hash": "916dbcbb3f70747c44a77c7bcd40155683ae19c65e1c03b4aa3499c5328201f1"
  }
 },
 "nbformat": 4,
 "nbformat_minor": 2
}