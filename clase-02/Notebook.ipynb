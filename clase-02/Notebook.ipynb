{
 "cells": [
  {
   "cell_type": "markdown",
   "source": [
    "# Clase 02"
   ],
   "metadata": {}
  },
  {
   "cell_type": "code",
   "execution_count": 92,
   "source": [
    "# Keywords.\n",
    "help('keywords')"
   ],
   "outputs": [
    {
     "output_type": "stream",
     "name": "stdout",
     "text": [
      "\n",
      "Here is a list of the Python keywords.  Enter any keyword to get more help.\n",
      "\n",
      "False               class               from                or\n",
      "None                continue            global              pass\n",
      "True                def                 if                  raise\n",
      "and                 del                 import              return\n",
      "as                  elif                in                  try\n",
      "assert              else                is                  while\n",
      "async               except              lambda              with\n",
      "await               finally             nonlocal            yield\n",
      "break               for                 not                 \n",
      "\n"
     ]
    }
   ],
   "metadata": {}
  },
  {
   "cell_type": "code",
   "execution_count": 93,
   "source": [
    "# Ejemplo de variable.\n",
    "nombre = \"Joel\""
   ],
   "outputs": [],
   "metadata": {}
  },
  {
   "cell_type": "markdown",
   "source": [
    "-----------------------------"
   ],
   "metadata": {}
  },
  {
   "cell_type": "markdown",
   "source": [
    "## Tipos de datos\n",
    "\n",
    "- Primitivos:\n",
    "  - Números: `int`, `float`, `complex`\n",
    "  - Strings\n",
    "  - Booleanos\n",
    "- Colecciones:\n",
    "  - Listas\n",
    "  - Tuplas\n",
    "  - Diccionarios"
   ],
   "metadata": {}
  },
  {
   "cell_type": "markdown",
   "source": [
    "## Datos Primitivos"
   ],
   "metadata": {}
  },
  {
   "cell_type": "code",
   "execution_count": 94,
   "source": [
    "# Números enteros (int)\n",
    "numero = 5\n",
    "numero_2 = 100\n",
    "numero_3 = 637738291\n",
    "\n",
    "print(type(numero))"
   ],
   "outputs": [
    {
     "output_type": "stream",
     "name": "stdout",
     "text": [
      "<class 'int'>\n"
     ]
    }
   ],
   "metadata": {}
  },
  {
   "cell_type": "code",
   "execution_count": 95,
   "source": [
    "# Números flotantes (float), hasta 64 decimales.\n",
    "numero_float = 10.0 # int como float\n",
    "numero_float2 = 5.55\n",
    "numero_float3 = 992.82723\n",
    "\n",
    "print(type(numero_float))"
   ],
   "outputs": [
    {
     "output_type": "stream",
     "name": "stdout",
     "text": [
      "<class 'float'>\n"
     ]
    }
   ],
   "metadata": {}
  },
  {
   "cell_type": "code",
   "execution_count": 96,
   "source": [
    "# Números complejos (complex)\n",
    "numero_complex = 5 + 5j\n",
    "numero_complex2 = 10 + 1j\n",
    "numero_complex3 = 1.5 + 6j\n",
    "\n",
    "print(type(numero_complex))"
   ],
   "outputs": [
    {
     "output_type": "stream",
     "name": "stdout",
     "text": [
      "<class 'complex'>\n"
     ]
    }
   ],
   "metadata": {}
  },
  {
   "cell_type": "code",
   "execution_count": 97,
   "source": [
    "# Textos\n",
    "texto_ingles = 'I\\'m Joey'\n",
    "texto = \"Me dicen Joey\" # PEP8 dice que usemos comillas simples\n",
    "texto_multilinea = \"\"\"Hola\n",
    "Soy\n",
    "multilinea\"\"\"\n",
    "\n",
    "print(type(texto_multilinea))\n",
    "print(texto_multilinea)"
   ],
   "outputs": [
    {
     "output_type": "stream",
     "name": "stdout",
     "text": [
      "<class 'str'>\n",
      "Hola\n",
      "Soy\n",
      "multilinea\n"
     ]
    }
   ],
   "metadata": {}
  },
  {
   "cell_type": "code",
   "execution_count": 98,
   "source": [
    "# Booleanos\n",
    "verdad = True\n",
    "falso = False\n",
    "\n",
    "print(type(verdad))"
   ],
   "outputs": [
    {
     "output_type": "stream",
     "name": "stdout",
     "text": [
      "<class 'bool'>\n"
     ]
    }
   ],
   "metadata": {}
  },
  {
   "cell_type": "markdown",
   "source": [
    "## Colecciones"
   ],
   "metadata": {}
  },
  {
   "cell_type": "code",
   "execution_count": 99,
   "source": [
    "# Listas: conjunto ordenado y mutable de elementos\n",
    "# a los cuales se accede mediante un índice que \n",
    "# empieza por 0 (cero).\n",
    "\n",
    "mi_lista = [10, \"hola\", True, False]\n",
    "mi_lista_vacia = [] # Constructor\n",
    "\n",
    "print(type(mi_lista))\n",
    "print(mi_lista)\n",
    "print(mi_lista[1]) # Segundo elemento de la lista\n",
    "print(mi_lista[-1]) # Último elemento de la lista"
   ],
   "outputs": [
    {
     "output_type": "stream",
     "name": "stdout",
     "text": [
      "<class 'list'>\n",
      "[10, 'hola', True, False]\n",
      "hola\n",
      "False\n"
     ]
    }
   ],
   "metadata": {}
  },
  {
   "cell_type": "code",
   "execution_count": 100,
   "source": [
    "# Tuplas: igual a listas, pero inmutable. Constructor: coma ,\n",
    "# Ventaja sobre listas: ocupa la mitad de memoria.\n",
    "\n",
    "mi_tupla = (10, \"hola\", True, False) # paréntesis opcionales\n",
    "print(type(mi_tupla))"
   ],
   "outputs": [
    {
     "output_type": "stream",
     "name": "stdout",
     "text": [
      "<class 'tuple'>\n"
     ]
    }
   ],
   "metadata": {}
  },
  {
   "cell_type": "code",
   "execution_count": 101,
   "source": [
    "# Diccionarios: conjunto no ordenado y mutable de elementos clave-valor\n",
    "# (también llamado matriz asociativa). Constructor: {}\n",
    "\n",
    "mi_dict = {\n",
    "    'nombre': 'Joel',\n",
    "    'apellido': 'Villarreal',\n",
    "    'edad': 31,\n",
    "    'extra': {\n",
    "        'color_favorito': 'rojo'\n",
    "    }\n",
    "}\n",
    "\n",
    "print(type(mi_dict))\n",
    "print(mi_dict)"
   ],
   "outputs": [
    {
     "output_type": "stream",
     "name": "stdout",
     "text": [
      "<class 'dict'>\n",
      "{'nombre': 'Joel', 'apellido': 'Villarreal', 'edad': 31, 'extra': {'color_favorito': 'rojo'}}\n"
     ]
    }
   ],
   "metadata": {}
  },
  {
   "cell_type": "code",
   "execution_count": 102,
   "source": [
    "del mi_dict['extra']\n",
    "print(mi_dict)"
   ],
   "outputs": [
    {
     "output_type": "stream",
     "name": "stdout",
     "text": [
      "{'nombre': 'Joel', 'apellido': 'Villarreal', 'edad': 31}\n"
     ]
    }
   ],
   "metadata": {}
  },
  {
   "cell_type": "code",
   "execution_count": 103,
   "source": [
    "# Composición de diccionarios vía tuplas\n",
    "claves = ('nombre', 'apellido', 'edad')\n",
    "valores = ('Joel', 'Villarreal', 31)\n",
    "mi_dict_compuesto = dict(zip(claves, valores))\n",
    "print(claves)\n",
    "print(valores)\n",
    "print(mi_dict_compuesto)"
   ],
   "outputs": [
    {
     "output_type": "stream",
     "name": "stdout",
     "text": [
      "('nombre', 'apellido', 'edad')\n",
      "('Joel', 'Villarreal', 31)\n",
      "{'nombre': 'Joel', 'apellido': 'Villarreal', 'edad': 31}\n"
     ]
    }
   ],
   "metadata": {}
  },
  {
   "cell_type": "markdown",
   "source": [
    "-----------------------------\n"
   ],
   "metadata": {}
  },
  {
   "cell_type": "markdown",
   "source": [
    "## Inyección de variables en un texto (String Interpolation)"
   ],
   "metadata": {}
  },
  {
   "cell_type": "code",
   "execution_count": 104,
   "source": [
    "nombre = \"Joel Alejandro\"\n",
    "apellido = \"Villarreal Bertoldi\""
   ],
   "outputs": [],
   "metadata": {}
  },
  {
   "cell_type": "code",
   "execution_count": 105,
   "source": [
    "# Importante poner la f adelante para habilitar la inyección.\n",
    "print(f\"Mi nombre es {nombre} y mi apellido es {apellido}\")"
   ],
   "outputs": [
    {
     "output_type": "stream",
     "name": "stdout",
     "text": [
      "Mi nombre es Joel Alejandro y mi apellido es Villarreal Bertoldi\n"
     ]
    }
   ],
   "metadata": {}
  },
  {
   "cell_type": "code",
   "execution_count": 106,
   "source": [
    "# Usando el método .format() de string. Forma más común en bibliografía.\n",
    "print(\"Mi nombre es {} y mi apellido es {}\".format(nombre, apellido))"
   ],
   "outputs": [
    {
     "output_type": "stream",
     "name": "stdout",
     "text": [
      "Mi nombre es Joel Alejandro y mi apellido es Villarreal Bertoldi\n"
     ]
    }
   ],
   "metadata": {}
  },
  {
   "cell_type": "code",
   "execution_count": 107,
   "source": [
    "# Usando lista de parámetros en print. La coma inserta espacios automáticamente.\n",
    "print(\"Mi nombre es\", nombre, \"y mi apellido es\", apellido)"
   ],
   "outputs": [
    {
     "output_type": "stream",
     "name": "stdout",
     "text": [
      "Mi nombre es Joel Alejandro y mi apellido es Villarreal Bertoldi\n"
     ]
    }
   ],
   "metadata": {}
  },
  {
   "cell_type": "code",
   "execution_count": 108,
   "source": [
    "# Usando concatenación.\n",
    "print(\"Mi nombre es \" + nombre + \" y mi apellido es \" + apellido)"
   ],
   "outputs": [
    {
     "output_type": "stream",
     "name": "stdout",
     "text": [
      "Mi nombre es Joel Alejandro y mi apellido es Villarreal Bertoldi\n"
     ]
    }
   ],
   "metadata": {}
  },
  {
   "cell_type": "code",
   "execution_count": 109,
   "source": [
    "# Concatenación con números. Sólo es necesario usar str() cuando concatenamos con +.\n",
    "edad = 31\n",
    "print(\"Mi nombre es \" + nombre + \" y tengo \" + str(edad) + \" años\")"
   ],
   "outputs": [
    {
     "output_type": "stream",
     "name": "stdout",
     "text": [
      "Mi nombre es Joel Alejandro y tengo 31 años\n"
     ]
    }
   ],
   "metadata": {}
  },
  {
   "cell_type": "code",
   "execution_count": 110,
   "source": [
    "# Inyección de tipos mixtos.\n",
    "print(f\"Mi nombre es {nombre} y tengo {edad} años\")"
   ],
   "outputs": [
    {
     "output_type": "stream",
     "name": "stdout",
     "text": [
      "Mi nombre es Joel Alejandro y tengo 31 años\n"
     ]
    }
   ],
   "metadata": {}
  },
  {
   "cell_type": "markdown",
   "source": [
    "-----------------------------\n"
   ],
   "metadata": {}
  },
  {
   "cell_type": "markdown",
   "source": [
    "## Entrada de datos: input()"
   ],
   "metadata": {}
  },
  {
   "cell_type": "code",
   "execution_count": 111,
   "source": [
    "nombre = input()\n",
    "print(nombre)"
   ],
   "outputs": [
    {
     "output_type": "stream",
     "name": "stdout",
     "text": [
      "Joey\n"
     ]
    }
   ],
   "metadata": {}
  },
  {
   "cell_type": "code",
   "execution_count": 112,
   "source": [
    "# Prompt\n",
    "nombre = input('Ingresá tu nombre: ')\n",
    "print(nombre)"
   ],
   "outputs": [
    {
     "output_type": "stream",
     "name": "stdout",
     "text": [
      "Joey\n"
     ]
    }
   ],
   "metadata": {}
  },
  {
   "cell_type": "code",
   "execution_count": 113,
   "source": [
    "# Ingreso de datos numéricos enteros.\n",
    "numero = int(input('Ingresá un número: '))\n",
    "print(type(numero), numero)"
   ],
   "outputs": [
    {
     "output_type": "stream",
     "name": "stdout",
     "text": [
      "<class 'int'> 4\n"
     ]
    }
   ],
   "metadata": {}
  },
  {
   "cell_type": "code",
   "execution_count": 114,
   "source": [
    "# Ingreso de datos numéricos flotantes.\n",
    "numero = float(input('Ingresá un número: '))\n",
    "print(type(numero), numero)"
   ],
   "outputs": [
    {
     "output_type": "stream",
     "name": "stdout",
     "text": [
      "<class 'float'> 4.2\n"
     ]
    }
   ],
   "metadata": {}
  },
  {
   "cell_type": "markdown",
   "source": [
    "## Salida de datos: print()"
   ],
   "metadata": {}
  },
  {
   "cell_type": "markdown",
   "source": [
    "Es una función predefinida de Python, imprime la información que le pasemos por parámetros. Ver todos los ejemplos arriba."
   ],
   "metadata": {}
  },
  {
   "cell_type": "markdown",
   "source": [
    "---------------------------"
   ],
   "metadata": {}
  },
  {
   "cell_type": "markdown",
   "source": [
    "## Operadores"
   ],
   "metadata": {}
  },
  {
   "cell_type": "markdown",
   "source": [
    "### Aritméticos"
   ],
   "metadata": {}
  },
  {
   "cell_type": "code",
   "execution_count": 115,
   "source": [
    "# Suma\n",
    "10 + 5"
   ],
   "outputs": [
    {
     "output_type": "execute_result",
     "data": {
      "text/plain": [
       "15"
      ]
     },
     "metadata": {},
     "execution_count": 115
    }
   ],
   "metadata": {}
  },
  {
   "cell_type": "code",
   "execution_count": 116,
   "source": [
    "# Resta\n",
    "10 - 5"
   ],
   "outputs": [
    {
     "output_type": "execute_result",
     "data": {
      "text/plain": [
       "5"
      ]
     },
     "metadata": {},
     "execution_count": 116
    }
   ],
   "metadata": {}
  },
  {
   "cell_type": "code",
   "execution_count": 117,
   "source": [
    "# Multiplicación\n",
    "10 * 5"
   ],
   "outputs": [
    {
     "output_type": "execute_result",
     "data": {
      "text/plain": [
       "50"
      ]
     },
     "metadata": {},
     "execution_count": 117
    }
   ],
   "metadata": {}
  },
  {
   "cell_type": "code",
   "execution_count": 118,
   "source": [
    "# División (resulta en float)\n",
    "10 / 5"
   ],
   "outputs": [
    {
     "output_type": "execute_result",
     "data": {
      "text/plain": [
       "2.0"
      ]
     },
     "metadata": {},
     "execution_count": 118
    }
   ],
   "metadata": {}
  },
  {
   "cell_type": "code",
   "execution_count": 119,
   "source": [
    "# Potencia\n",
    "10 ** 5"
   ],
   "outputs": [
    {
     "output_type": "execute_result",
     "data": {
      "text/plain": [
       "100000"
      ]
     },
     "metadata": {},
     "execution_count": 119
    }
   ],
   "metadata": {}
  },
  {
   "cell_type": "code",
   "execution_count": 120,
   "source": [
    "# División entera (resulta en int)\n",
    "10 // 5"
   ],
   "outputs": [
    {
     "output_type": "execute_result",
     "data": {
      "text/plain": [
       "2"
      ]
     },
     "metadata": {},
     "execution_count": 120
    }
   ],
   "metadata": {}
  },
  {
   "cell_type": "code",
   "execution_count": 121,
   "source": [
    "# Módulo (resto de una división)\n",
    "10 % 5"
   ],
   "outputs": [
    {
     "output_type": "execute_result",
     "data": {
      "text/plain": [
       "0"
      ]
     },
     "metadata": {},
     "execution_count": 121
    }
   ],
   "metadata": {}
  },
  {
   "cell_type": "code",
   "execution_count": 122,
   "source": [
    "# Repetición de texto usando *\n",
    "\"Joey \" * 5"
   ],
   "outputs": [
    {
     "output_type": "execute_result",
     "data": {
      "text/plain": [
       "'Joey Joey Joey Joey Joey '"
      ]
     },
     "metadata": {},
     "execution_count": 122
    }
   ],
   "metadata": {}
  },
  {
   "cell_type": "code",
   "execution_count": 123,
   "source": [
    "# Operaciones con tuplas\n",
    "cociente, resto = 10 // 5, 10 % 5\n",
    "print(f\"Cociente: {cociente}, Resto: {resto}\")"
   ],
   "outputs": [
    {
     "output_type": "stream",
     "name": "stdout",
     "text": [
      "Cociente: 2, Resto: 0\n"
     ]
    }
   ],
   "metadata": {}
  },
  {
   "cell_type": "markdown",
   "source": [
    "### Asignación"
   ],
   "metadata": {}
  },
  {
   "cell_type": "code",
   "execution_count": 124,
   "source": [
    "# Asignación.\n",
    "numero = 10"
   ],
   "outputs": [],
   "metadata": {}
  },
  {
   "cell_type": "code",
   "execution_count": 125,
   "source": [
    "# Reasignación con suma.\n",
    "numero += 10 # numero = numero + 10\n",
    "print(numero)"
   ],
   "outputs": [
    {
     "output_type": "stream",
     "name": "stdout",
     "text": [
      "20\n"
     ]
    }
   ],
   "metadata": {}
  },
  {
   "cell_type": "code",
   "execution_count": 126,
   "source": [
    "# Reasignación con resta.\n",
    "numero -= 5 # numero = numero - 5\n",
    "print(numero)"
   ],
   "outputs": [
    {
     "output_type": "stream",
     "name": "stdout",
     "text": [
      "15\n"
     ]
    }
   ],
   "metadata": {}
  },
  {
   "cell_type": "code",
   "execution_count": 127,
   "source": [
    "# Reasignación con multiplicación.\n",
    "numero *= 10 # numero = numero * 10\n",
    "print(numero)"
   ],
   "outputs": [
    {
     "output_type": "stream",
     "name": "stdout",
     "text": [
      "150\n"
     ]
    }
   ],
   "metadata": {}
  },
  {
   "cell_type": "code",
   "execution_count": 128,
   "source": [
    "# Reasignación con división entera.\n",
    "numero //= 20 # numero = numero // 20\n",
    "print(numero)"
   ],
   "outputs": [
    {
     "output_type": "stream",
     "name": "stdout",
     "text": [
      "7\n"
     ]
    }
   ],
   "metadata": {}
  },
  {
   "cell_type": "code",
   "execution_count": 130,
   "source": [
    "# Reasignación con potencia.\n",
    "numero **= 2 # numero = numero ** 2\n",
    "print(numero)"
   ],
   "outputs": [
    {
     "output_type": "stream",
     "name": "stdout",
     "text": [
      "49\n"
     ]
    }
   ],
   "metadata": {}
  },
  {
   "cell_type": "markdown",
   "source": [
    "### Relacionales"
   ],
   "metadata": {}
  },
  {
   "cell_type": "code",
   "execution_count": 132,
   "source": [
    "numero, numero_2 = 10, 15"
   ],
   "outputs": [],
   "metadata": {}
  },
  {
   "cell_type": "code",
   "execution_count": 134,
   "source": [
    "# Igualdad.\n",
    "numero == numero_2"
   ],
   "outputs": [
    {
     "output_type": "execute_result",
     "data": {
      "text/plain": [
       "False"
      ]
     },
     "metadata": {},
     "execution_count": 134
    }
   ],
   "metadata": {}
  },
  {
   "cell_type": "code",
   "execution_count": 136,
   "source": [
    "# Desigualdad.\n",
    "numero != numero_2"
   ],
   "outputs": [
    {
     "output_type": "execute_result",
     "data": {
      "text/plain": [
       "True"
      ]
     },
     "metadata": {},
     "execution_count": 136
    }
   ],
   "metadata": {}
  },
  {
   "cell_type": "code",
   "execution_count": 138,
   "source": [
    "# Menor que.\n",
    "numero < numero_2"
   ],
   "outputs": [
    {
     "output_type": "execute_result",
     "data": {
      "text/plain": [
       "True"
      ]
     },
     "metadata": {},
     "execution_count": 138
    }
   ],
   "metadata": {}
  },
  {
   "cell_type": "code",
   "execution_count": 140,
   "source": [
    "# Mayor que.\n",
    "numero > numero_2"
   ],
   "outputs": [
    {
     "output_type": "execute_result",
     "data": {
      "text/plain": [
       "False"
      ]
     },
     "metadata": {},
     "execution_count": 140
    }
   ],
   "metadata": {}
  },
  {
   "cell_type": "code",
   "execution_count": 142,
   "source": [
    "# Menor o igual que.\n",
    "numero <= numero_2"
   ],
   "outputs": [
    {
     "output_type": "execute_result",
     "data": {
      "text/plain": [
       "True"
      ]
     },
     "metadata": {},
     "execution_count": 142
    }
   ],
   "metadata": {}
  },
  {
   "cell_type": "code",
   "execution_count": 143,
   "source": [
    "# Mayor o igual que.\n",
    "numero >= numero_2"
   ],
   "outputs": [
    {
     "output_type": "execute_result",
     "data": {
      "text/plain": [
       "False"
      ]
     },
     "metadata": {},
     "execution_count": 143
    }
   ],
   "metadata": {}
  },
  {
   "cell_type": "code",
   "execution_count": 144,
   "source": [
    "# Comparación de textos. Se basa en ASCII.\n",
    "\"hola\" < \"chau\""
   ],
   "outputs": [
    {
     "output_type": "execute_result",
     "data": {
      "text/plain": [
       "False"
      ]
     },
     "metadata": {},
     "execution_count": 144
    }
   ],
   "metadata": {}
  },
  {
   "cell_type": "markdown",
   "source": [
    "### Lógicos"
   ],
   "metadata": {}
  },
  {
   "cell_type": "code",
   "execution_count": 154,
   "source": [
    "numero = 10\n",
    "numero_2 = 15\n",
    "esMenor = numero < numero_2\n",
    "esMayor = numero > numero_2\n",
    "esDistinto = numero != numero_2\n",
    "esIgual = numero == numero_2"
   ],
   "outputs": [],
   "metadata": {}
  },
  {
   "cell_type": "code",
   "execution_count": 152,
   "source": [
    "# Conjunción. Todos deben ser True.\n",
    "print(\"esMenor and esDistinto: \", esMenor and esDistinto)\n",
    "print(\"esIgual and esDistinto: \", esIgual and esDistinto)"
   ],
   "outputs": [
    {
     "output_type": "stream",
     "name": "stdout",
     "text": [
      "esMenor and esDistinto:  True\n",
      "esIgual and esDistinto:  False\n"
     ]
    }
   ],
   "metadata": {}
  },
  {
   "cell_type": "code",
   "execution_count": 156,
   "source": [
    "# Disyunción. Al menos uno debe ser True.\n",
    "print(\"esIgual o esDistinto\", esIgual or esDistinto)\n",
    "print(\"esMayor o esIgual\", esMayor or esIgual)"
   ],
   "outputs": [
    {
     "output_type": "stream",
     "name": "stdout",
     "text": [
      "esIgual o esDistinto True\n",
      "esMayor o esIgual False\n"
     ]
    }
   ],
   "metadata": {}
  },
  {
   "cell_type": "code",
   "execution_count": 158,
   "source": [
    "# Negación. Invierte el valor.\n",
    "print(\"esIgual:\", esIgual, \"- not esIgual:\", not esIgual)"
   ],
   "outputs": [
    {
     "output_type": "stream",
     "name": "stdout",
     "text": [
      "esIgual: False - not esIgual: True\n"
     ]
    }
   ],
   "metadata": {}
  },
  {
   "cell_type": "markdown",
   "source": [
    "----------------------"
   ],
   "metadata": {}
  },
  {
   "cell_type": "markdown",
   "source": [
    "## Estructuras de control de flujo\n",
    "\n",
    "Permiten rompen la secuencialidad del programa. Ejecuta algunas instrucciones y omite otras, o repite instrucciones, según ciertas evaluaciones."
   ],
   "metadata": {}
  },
  {
   "cell_type": "markdown",
   "source": [
    "### Condicionales\n",
    "\n",
    "Permiten comprobar mediante una condición si se ejecutará un bloque de código u otro."
   ],
   "metadata": {}
  },
  {
   "cell_type": "code",
   "execution_count": 160,
   "source": [
    "numero = 10"
   ],
   "outputs": [],
   "metadata": {}
  },
  {
   "cell_type": "code",
   "execution_count": 163,
   "source": [
    "if (numero < 15):\n",
    "    print(numero, 'es menor a 15')"
   ],
   "outputs": [
    {
     "output_type": "stream",
     "name": "stdout",
     "text": [
      "10 es menor a 15\n"
     ]
    }
   ],
   "metadata": {}
  },
  {
   "cell_type": "code",
   "execution_count": 165,
   "source": [
    "if (numero > 15):\n",
    "    print(numero, 'es mayor a 15')"
   ],
   "outputs": [],
   "metadata": {}
  },
  {
   "cell_type": "code",
   "execution_count": 170,
   "source": [
    "if (numero > 15):\n",
    "    print(numero, 'es mayor a 15')\n",
    "else:\n",
    "    print(numero, 'es menor a 15')"
   ],
   "outputs": [
    {
     "output_type": "stream",
     "name": "stdout",
     "text": [
      "10 es menor a 15\n"
     ]
    }
   ],
   "metadata": {}
  },
  {
   "cell_type": "code",
   "execution_count": 172,
   "source": [
    "if (numero > 15):\n",
    "    print(numero, 'es mayor a 15')\n",
    "elif (numero >= 10 and numero < 15):\n",
    "    print(numero, 'está entre 10 y 15')\n",
    "elif (numero == 30):\n",
    "    print(numero, 'es 30')\n",
    "else:\n",
    "    print(\"No tengo idea qué numero es\")"
   ],
   "outputs": [
    {
     "output_type": "stream",
     "name": "stdout",
     "text": [
      "10 está entre 10 y 15\n"
     ]
    }
   ],
   "metadata": {}
  },
  {
   "cell_type": "code",
   "execution_count": 174,
   "source": [
    "if (numero < 15):\n",
    "    print(numero, 'es menor a 15')\n",
    "    if (numero % 2 == 0): # es par?\n",
    "        print(numero, 'es par')\n",
    "        if (numero == 0): # es cero?\n",
    "            print(numero, 'es cero')\n",
    "        else:\n",
    "            print(numero, 'no es cero')\n",
    "    else:\n",
    "        print(numero, 'es impar')"
   ],
   "outputs": [
    {
     "output_type": "stream",
     "name": "stdout",
     "text": [
      "10 es menor a 15\n",
      "10 es par\n",
      "10 no es cero\n"
     ]
    }
   ],
   "metadata": {}
  },
  {
   "cell_type": "markdown",
   "source": [
    "### Iterativas\n",
    "\n",
    "Permiten repetir la ejecución de un bloque de código un cierto número de veces, mientras se cumpla una determinado condición o bien recorrer un objeto iterable."
   ],
   "metadata": {}
  },
  {
   "cell_type": "code",
   "execution_count": 176,
   "source": [
    "# Iteración de listas\n",
    "mi_lista = [1, 2, 3, 4, 5]\n",
    "\n",
    "for numero in mi_lista:\n",
    "    print(numero)"
   ],
   "outputs": [
    {
     "output_type": "stream",
     "name": "stdout",
     "text": [
      "1\n",
      "2\n",
      "3\n",
      "4\n",
      "5\n"
     ]
    }
   ],
   "metadata": {}
  },
  {
   "cell_type": "code",
   "execution_count": 178,
   "source": [
    "# Iteración de objeto iterable.\n",
    "for clave, valor in mi_dict.items():\n",
    "    print(f\"Mi {clave} es {valor}\")"
   ],
   "outputs": [
    {
     "output_type": "stream",
     "name": "stdout",
     "text": [
      "Mi nombre es Joel\n",
      "Mi apellido es Villarreal\n",
      "Mi edad es 31\n"
     ]
    }
   ],
   "metadata": {}
  },
  {
   "cell_type": "code",
   "execution_count": 181,
   "source": [
    "# Rango númerico.\n",
    "for i in range(10):\n",
    "    print(i)"
   ],
   "outputs": [
    {
     "output_type": "stream",
     "name": "stdout",
     "text": [
      "0\n",
      "1\n",
      "2\n",
      "3\n",
      "4\n",
      "5\n",
      "6\n",
      "7\n",
      "8\n",
      "9\n"
     ]
    }
   ],
   "metadata": {}
  },
  {
   "cell_type": "code",
   "execution_count": 183,
   "source": [
    "# Rango numérico con incremento.\n",
    "for i in range(1, 10, 2):\n",
    "    print(i)"
   ],
   "outputs": [
    {
     "output_type": "stream",
     "name": "stdout",
     "text": [
      "1\n",
      "3\n",
      "5\n",
      "7\n",
      "9\n"
     ]
    }
   ],
   "metadata": {}
  },
  {
   "cell_type": "code",
   "execution_count": 185,
   "source": [
    "# Bucle condicional.\n",
    "numero = 10\n",
    "while (numero < 15):\n",
    "    print(numero)\n",
    "    numero += 1"
   ],
   "outputs": [
    {
     "output_type": "stream",
     "name": "stdout",
     "text": [
      "10\n",
      "11\n",
      "12\n",
      "13\n",
      "14\n"
     ]
    }
   ],
   "metadata": {}
  },
  {
   "cell_type": "code",
   "execution_count": 187,
   "source": [
    "# Interrupción de bucle.\n",
    "for i in range(5):\n",
    "    if i == 2:\n",
    "        break\n",
    "    print(i)"
   ],
   "outputs": [
    {
     "output_type": "stream",
     "name": "stdout",
     "text": [
      "0\n",
      "1\n"
     ]
    }
   ],
   "metadata": {}
  },
  {
   "cell_type": "code",
   "execution_count": 188,
   "source": [
    "# Salteo de paso en bucle.\n",
    "for i in range(5):\n",
    "    if i == 2:\n",
    "        continue\n",
    "    print(i)"
   ],
   "outputs": [
    {
     "output_type": "stream",
     "name": "stdout",
     "text": [
      "0\n",
      "1\n",
      "3\n",
      "4\n"
     ]
    }
   ],
   "metadata": {}
  }
 ],
 "metadata": {
  "orig_nbformat": 4,
  "language_info": {
   "name": "python",
   "version": "3.8.10",
   "mimetype": "text/x-python",
   "codemirror_mode": {
    "name": "ipython",
    "version": 3
   },
   "pygments_lexer": "ipython3",
   "nbconvert_exporter": "python",
   "file_extension": ".py"
  },
  "kernelspec": {
   "name": "python3",
   "display_name": "Python 3.8.10 64-bit"
  },
  "interpreter": {
   "hash": "916dbcbb3f70747c44a77c7bcd40155683ae19c65e1c03b4aa3499c5328201f1"
  }
 },
 "nbformat": 4,
 "nbformat_minor": 2
}